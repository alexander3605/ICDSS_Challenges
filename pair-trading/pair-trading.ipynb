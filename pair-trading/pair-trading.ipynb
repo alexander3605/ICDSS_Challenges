{
 "cells": [
  {
   "cell_type": "markdown",
   "metadata": {},
   "source": [
    "# ICDSS Challenges - PAIR TRADING\n",
    "## Alessandro Serena (as6316@ic.ac.uk)\n",
    "\n",
    "I decided to work on this challenge by focusing on 2 main aspects:\n",
    "1. A systematic and efficient way to identify pairs of stocks with high correlation\n",
    "2. The creation of a predictive model to predict the stock prices of a highly correlated pair based on their history"
   ]
  },
  {
   "cell_type": "markdown",
   "metadata": {},
   "source": [
    "# PART 1 - Find candidate pairs of stocks\n",
    "\n",
    "The objective of this section is to find a method to efficiently find pairs of stocks that can be used for pair trading.\n",
    "\n",
    "## 1.a. Dimensionality reduction and data normalization\n",
    "I decided to reduce the dimensionality of the dataset by applying a 5-days average kernel to each stock time series. The window of 5 days was chosen because the stock market stays open 5 days a week, so our new feature space will represent a weekly summary. \n",
    "Moreover, to make the different time series more comparable the weekly data is normalized to represent the percentage change w.r.t. the previous week instead of absolute values."
   ]
  },
  {
   "cell_type": "code",
   "execution_count": 3,
   "metadata": {
    "scrolled": true
   },
   "outputs": [],
   "source": [
    "# IMPORT LIBRARIES\n",
    "def warn(*args, **kwargs):\n",
    "    pass\n",
    "import warnings\n",
    "warnings.warn = warn\n",
    "\n",
    "\n",
    "from reader import get_prices\n",
    "from matplotlib import pyplot as plt\n",
    "import pandas as pd\n",
    "import math\n",
    "from keras.losses import MAPE\n",
    "from keras.models import Sequential\n",
    "from keras.layers import Dense\n",
    "from keras.layers import LSTM\n",
    "from sklearn.preprocessing import MinMaxScaler\n",
    "from sklearn.metrics import mean_squared_error\n",
    "import sklearn\n",
    "from sklearn.cluster import KMeans\n",
    "import numpy as np\n",
    "import pprint\n",
    "from scipy.special import expit, logit\n",
    "\n",
    "# fix random seed for reproducibility\n",
    "np.random.seed(7)\n",
    "\n",
    "pd.set_option('display.max_rows', 20)"
   ]
  },
  {
   "cell_type": "code",
   "execution_count": 4,
   "metadata": {},
   "outputs": [],
   "source": [
    "# IMPORT AND CLEAN DATASET\n",
    "\n",
    "prices = get_prices()\n",
    "symbols = prices.columns\n",
    "\n",
    "for stock in prices:\n",
    "    nan_dirty = prices[stock].isnull().sum().sum()\n",
    "    if nan_dirty > 2:\n",
    "        prices = prices.drop(stock, axis=1)\n",
    "    elif nan_dirty:\n",
    "        prices[stock].fillna(prices[stock].mean())\n",
    "symbols = prices.columns"
   ]
  },
  {
   "cell_type": "code",
   "execution_count": 5,
   "metadata": {},
   "outputs": [],
   "source": [
    "# CLUSTER COMPANIES TOGETHER BASED ON STOCK TREND\n",
    "# FEATURE VECTOR USED: 5-DAY PERCENTAGE CHANGE\n",
    "\n",
    "weekly_priceDiff = {}\n",
    "\n",
    "symbol_count = 0\n",
    "for symbol in symbols:\n",
    "    stock = prices[symbol]\n",
    "    step = 5\n",
    "    temp_ls = []\n",
    "\n",
    "    for a in range(0,len(stock),step):\n",
    "        stock_diff = 0\n",
    "        opening_price = stock[a]\n",
    "        closing_price = None\n",
    "        try:\n",
    "            closing_price = stock[a+step-1]\n",
    "        except:\n",
    "            closing_price = stock[a+step-2]\n",
    "        stock_diff = (closing_price - opening_price)/opening_price*100\n",
    "        temp_ls.append(stock_diff)\n",
    "        \n",
    "    weekly_priceDiff[symbol] = temp_ls\n",
    "       \n",
    "\n",
    "weekly_priceDiff = pd.DataFrame(weekly_priceDiff)\n",
    "weekly_priceDiff = weekly_priceDiff.fillna(0)\n",
    "weekly_priceDiff = weekly_priceDiff.transpose()"
   ]
  },
  {
   "cell_type": "code",
   "execution_count": 6,
   "metadata": {},
   "outputs": [
    {
     "data": {
      "text/html": [
       "<div>\n",
       "<style scoped>\n",
       "    .dataframe tbody tr th:only-of-type {\n",
       "        vertical-align: middle;\n",
       "    }\n",
       "\n",
       "    .dataframe tbody tr th {\n",
       "        vertical-align: top;\n",
       "    }\n",
       "\n",
       "    .dataframe thead th {\n",
       "        text-align: right;\n",
       "    }\n",
       "</style>\n",
       "<table border=\"1\" class=\"dataframe\">\n",
       "  <thead>\n",
       "    <tr style=\"text-align: right;\">\n",
       "      <th></th>\n",
       "      <th>0</th>\n",
       "      <th>1</th>\n",
       "      <th>2</th>\n",
       "      <th>3</th>\n",
       "      <th>4</th>\n",
       "      <th>5</th>\n",
       "      <th>6</th>\n",
       "      <th>7</th>\n",
       "      <th>8</th>\n",
       "      <th>9</th>\n",
       "      <th>...</th>\n",
       "      <th>390</th>\n",
       "      <th>391</th>\n",
       "      <th>392</th>\n",
       "      <th>393</th>\n",
       "      <th>394</th>\n",
       "      <th>395</th>\n",
       "      <th>396</th>\n",
       "      <th>397</th>\n",
       "      <th>398</th>\n",
       "      <th>399</th>\n",
       "    </tr>\n",
       "  </thead>\n",
       "  <tbody>\n",
       "    <tr>\n",
       "      <th>A</th>\n",
       "      <td>-1.597444</td>\n",
       "      <td>-1.265412</td>\n",
       "      <td>-4.383117</td>\n",
       "      <td>-0.546262</td>\n",
       "      <td>-1.016949</td>\n",
       "      <td>2.856171</td>\n",
       "      <td>0.718250</td>\n",
       "      <td>3.618316</td>\n",
       "      <td>2.558570</td>\n",
       "      <td>-0.713012</td>\n",
       "      <td>...</td>\n",
       "      <td>2.336449</td>\n",
       "      <td>1.778180</td>\n",
       "      <td>-0.164204</td>\n",
       "      <td>0.684015</td>\n",
       "      <td>0.235398</td>\n",
       "      <td>-2.281703</td>\n",
       "      <td>2.472814</td>\n",
       "      <td>-0.929102</td>\n",
       "      <td>-6.162346</td>\n",
       "      <td>2.354550</td>\n",
       "    </tr>\n",
       "    <tr>\n",
       "      <th>AAL</th>\n",
       "      <td>7.756813</td>\n",
       "      <td>9.126984</td>\n",
       "      <td>-7.446809</td>\n",
       "      <td>10.891089</td>\n",
       "      <td>-0.503356</td>\n",
       "      <td>6.832298</td>\n",
       "      <td>4.264706</td>\n",
       "      <td>7.112971</td>\n",
       "      <td>3.212851</td>\n",
       "      <td>-2.141058</td>\n",
       "      <td>...</td>\n",
       "      <td>6.464519</td>\n",
       "      <td>2.631579</td>\n",
       "      <td>-2.258065</td>\n",
       "      <td>-6.382364</td>\n",
       "      <td>-0.420521</td>\n",
       "      <td>-3.435195</td>\n",
       "      <td>3.607346</td>\n",
       "      <td>1.530719</td>\n",
       "      <td>1.442503</td>\n",
       "      <td>3.133212</td>\n",
       "    </tr>\n",
       "    <tr>\n",
       "      <th>AAP</th>\n",
       "      <td>0.643883</td>\n",
       "      <td>-2.311133</td>\n",
       "      <td>2.531646</td>\n",
       "      <td>-0.147965</td>\n",
       "      <td>-0.922554</td>\n",
       "      <td>2.549916</td>\n",
       "      <td>-6.203358</td>\n",
       "      <td>2.174988</td>\n",
       "      <td>1.084599</td>\n",
       "      <td>0.403513</td>\n",
       "      <td>...</td>\n",
       "      <td>-4.909274</td>\n",
       "      <td>-8.198112</td>\n",
       "      <td>1.648930</td>\n",
       "      <td>-1.302143</td>\n",
       "      <td>-0.292933</td>\n",
       "      <td>-0.709046</td>\n",
       "      <td>8.495382</td>\n",
       "      <td>-1.706223</td>\n",
       "      <td>12.042223</td>\n",
       "      <td>-0.830450</td>\n",
       "    </tr>\n",
       "    <tr>\n",
       "      <th>AAPL</th>\n",
       "      <td>-0.948554</td>\n",
       "      <td>-1.989434</td>\n",
       "      <td>-5.564081</td>\n",
       "      <td>-5.443333</td>\n",
       "      <td>-0.888390</td>\n",
       "      <td>3.675009</td>\n",
       "      <td>-2.710936</td>\n",
       "      <td>4.083606</td>\n",
       "      <td>6.539913</td>\n",
       "      <td>-0.173457</td>\n",
       "      <td>...</td>\n",
       "      <td>0.824033</td>\n",
       "      <td>0.450741</td>\n",
       "      <td>-0.643353</td>\n",
       "      <td>0.800461</td>\n",
       "      <td>3.103343</td>\n",
       "      <td>1.257971</td>\n",
       "      <td>-2.195781</td>\n",
       "      <td>2.417932</td>\n",
       "      <td>-1.889409</td>\n",
       "      <td>-0.159161</td>\n",
       "    </tr>\n",
       "    <tr>\n",
       "      <th>ABC</th>\n",
       "      <td>-2.177995</td>\n",
       "      <td>2.201974</td>\n",
       "      <td>-0.949945</td>\n",
       "      <td>1.129738</td>\n",
       "      <td>-5.604203</td>\n",
       "      <td>1.509573</td>\n",
       "      <td>0.579920</td>\n",
       "      <td>2.043743</td>\n",
       "      <td>-0.035714</td>\n",
       "      <td>1.105169</td>\n",
       "      <td>...</td>\n",
       "      <td>1.655589</td>\n",
       "      <td>0.397614</td>\n",
       "      <td>3.474320</td>\n",
       "      <td>-5.335897</td>\n",
       "      <td>-4.124116</td>\n",
       "      <td>0.267380</td>\n",
       "      <td>4.562334</td>\n",
       "      <td>4.725019</td>\n",
       "      <td>5.135298</td>\n",
       "      <td>0.943067</td>\n",
       "    </tr>\n",
       "  </tbody>\n",
       "</table>\n",
       "<p>5 rows × 400 columns</p>\n",
       "</div>"
      ],
      "text/plain": [
       "           0         1         2          3         4         5         6    \\\n",
       "A    -1.597444 -1.265412 -4.383117  -0.546262 -1.016949  2.856171  0.718250   \n",
       "AAL   7.756813  9.126984 -7.446809  10.891089 -0.503356  6.832298  4.264706   \n",
       "AAP   0.643883 -2.311133  2.531646  -0.147965 -0.922554  2.549916 -6.203358   \n",
       "AAPL -0.948554 -1.989434 -5.564081  -5.443333 -0.888390  3.675009 -2.710936   \n",
       "ABC  -2.177995  2.201974 -0.949945   1.129738 -5.604203  1.509573  0.579920   \n",
       "\n",
       "           7         8         9    ...       390       391       392  \\\n",
       "A     3.618316  2.558570 -0.713012  ...  2.336449  1.778180 -0.164204   \n",
       "AAL   7.112971  3.212851 -2.141058  ...  6.464519  2.631579 -2.258065   \n",
       "AAP   2.174988  1.084599  0.403513  ... -4.909274 -8.198112  1.648930   \n",
       "AAPL  4.083606  6.539913 -0.173457  ...  0.824033  0.450741 -0.643353   \n",
       "ABC   2.043743 -0.035714  1.105169  ...  1.655589  0.397614  3.474320   \n",
       "\n",
       "           393       394       395       396       397        398       399  \n",
       "A     0.684015  0.235398 -2.281703  2.472814 -0.929102  -6.162346  2.354550  \n",
       "AAL  -6.382364 -0.420521 -3.435195  3.607346  1.530719   1.442503  3.133212  \n",
       "AAP  -1.302143 -0.292933 -0.709046  8.495382 -1.706223  12.042223 -0.830450  \n",
       "AAPL  0.800461  3.103343  1.257971 -2.195781  2.417932  -1.889409 -0.159161  \n",
       "ABC  -5.335897 -4.124116  0.267380  4.562334  4.725019   5.135298  0.943067  \n",
       "\n",
       "[5 rows x 400 columns]"
      ]
     },
     "execution_count": 6,
     "metadata": {},
     "output_type": "execute_result"
    }
   ],
   "source": [
    "weekly_priceDiff.head()"
   ]
  },
  {
   "cell_type": "markdown",
   "metadata": {},
   "source": [
    "---\n",
    "---\n",
    "## 1.b Clustering\n",
    "\n",
    "I have used the **k-means** clustering algorithm (with k = 200) in order to group together stocks that have similar weekly trends.\n",
    "\n",
    "Since k-means does not assign the same number of datapoints to each centre, we obtain (as it can be seen below) some centers that have a single stock associated with them. This helps us in excluding those stocks from our search of highly correlated pairs."
   ]
  },
  {
   "cell_type": "code",
   "execution_count": 7,
   "metadata": {},
   "outputs": [],
   "source": [
    "# PERFORM K-MEANS CLUSTERING\n",
    "clusters_no = 200\n",
    "\n",
    "kmeans = KMeans(n_clusters=clusters_no, random_state=2).fit(weekly_priceDiff)"
   ]
  },
  {
   "cell_type": "code",
   "execution_count": 8,
   "metadata": {},
   "outputs": [
    {
     "name": "stdout",
     "output_type": "stream",
     "text": [
      "== SOME CLUSTERS AS EXAMPLE ==\n",
      "Cluster 0: ['HIG']\n",
      "Cluster 25: ['ADM' 'AIZ' 'AJG' 'ALL' 'CB' 'CINF' 'CMCSA' 'GPC' 'GWW' 'HAS' 'IT' 'L'\n",
      " 'MMC' 'PGR' 'RE' 'UPS' 'XL']\n",
      "Cluster 60: ['DISCA' 'DISCK']\n"
     ]
    }
   ],
   "source": [
    "centers = np.zeros(clusters_no)\n",
    "for i in range(clusters_no):\n",
    "    centers[kmeans.labels_[i]] += 1\n",
    "\n",
    "clusters = {}\n",
    "for cluster in range(clusters_no):\n",
    "    clusters[cluster] = symbols[np.where(kmeans.labels_==cluster)]\n",
    "print(\"== SOME CLUSTERS AS EXAMPLE ==\")\n",
    "print(\"Cluster 0:\", clusters[0].values)\n",
    "print(\"Cluster 25:\", clusters[25].values)\n",
    "print(\"Cluster 60:\", clusters[60].values)"
   ]
  },
  {
   "cell_type": "markdown",
   "metadata": {},
   "source": [
    "---\n",
    "---\n",
    "## 1.c Find highly correlated pairs\n",
    "\n",
    "Now that we have the stocks grouped by clusters, I calculate the correlation coefficient of each pair of stocks belonging to the same cluster.\n",
    "By ranking these coefficients we see that we find more than 1800 pairs with more than 30% (600+) of the pairs having a correlation coefficient of above 0.9."
   ]
  },
  {
   "cell_type": "code",
   "execution_count": 9,
   "metadata": {},
   "outputs": [],
   "source": [
    "# RANK CORRELATIONS IN SAME CLUSTER\n",
    "corr_A = []\n",
    "corr_B = []\n",
    "corr_coeff = []\n",
    "for c in clusters:\n",
    "    symb = clusters[c]\n",
    "    if len(symb) > 1:\n",
    "        values = []\n",
    "        for s in symb:\n",
    "            values.append(prices[s].fillna(prices[s].mean()).to_list()) # TO CHECK! filling NaN with mean\n",
    "        cluster_corr = np.corrcoef(values)\n",
    "        for i in range(len(symb)):\n",
    "            for j in range(i+1,len(symb)):\n",
    "                corr_A.append(symb[i])\n",
    "                corr_B.append(symb[j])\n",
    "                corr_coeff.append(cluster_corr[i][j])\n",
    "d = {}\n",
    "d[\"stock_A\"] = corr_A\n",
    "d[\"stock_B\"] = corr_B\n",
    "d[\"corr\"] = corr_coeff\n",
    "correlations = pd.DataFrame(data=d)\n",
    "correlations = correlations.sort_values([\"corr\"], ascending=[0])\n",
    "correlations = correlations.reset_index()\n",
    "correlations = correlations.drop(\"index\", axis=1)"
   ]
  },
  {
   "cell_type": "code",
   "execution_count": 10,
   "metadata": {},
   "outputs": [
    {
     "name": "stdout",
     "output_type": "stream",
     "text": [
      "Candidate pairs found: 1822\n",
      " 1.00 -  0.90 Correlation pairs\t665\t(36.5%)\n",
      " 0.90 -  0.75 Correlation pairs\t562\t(30.85%)\n",
      " 0.75 -  0.50 Correlation pairs\t311\t(17.07%)\n",
      " 0.50 - -0.50 Correlation pairs\t262\t(14.38%)\n",
      "-0.50 - -0.75 Correlation pairs\t22\t(1.21%)\n",
      "-0.75 - -1.00 Correlation pairs\t0\t(0.0%)\n",
      "\n",
      "\n",
      "     stock_A stock_B      corr\n",
      "0        FOX    FOXA  0.997271\n",
      "1      DISCA   DISCK  0.996414\n",
      "2        LMT     RTN  0.993594\n",
      "3        AWK     CMS  0.993416\n",
      "4        DTE     NEE  0.992945\n",
      "...      ...     ...       ...\n",
      "1817     AEP      FE -0.656730\n",
      "1818     DTE      FE -0.664058\n",
      "1819      FE     SRE -0.680890\n",
      "1820     DUK     EXC -0.689859\n",
      "1821      FE     NEE -0.695324\n",
      "\n",
      "[1822 rows x 3 columns]\n"
     ]
    },
    {
     "data": {
      "image/png": "[encoded data removed]",
      "text/plain": [
       "<Figure size 432x288 with 1 Axes>"
      ]
     },
     "metadata": {
      "needs_background": "light"
     },
     "output_type": "display_data"
    }
   ],
   "source": [
    "print(f\"Candidate pairs found: {len(correlations)}\")\n",
    "plt.plot(correlations[\"corr\"].to_list())\n",
    "\n",
    "correlation_bins = (0,0,0,0,0)\n",
    "bin0 = 0\n",
    "bin1 = 0\n",
    "bin2 = 0\n",
    "bin3 = 0\n",
    "bin4 = 0\n",
    "bin5 = 0\n",
    "for i in range(len(correlations)):\n",
    "    corr = correlations.loc[i,\"corr\"]\n",
    "\n",
    "    if corr >= 0.90:\n",
    "        bin0+=1\n",
    "    elif corr >= 0.75:\n",
    "        bin1 += 1\n",
    "    elif corr >= 0.50:\n",
    "        bin2 += 1\n",
    "    elif corr > -0.50:\n",
    "        bin3 += 1\n",
    "    elif corr > -0.75:\n",
    "        bin4 += 1\n",
    "    else:\n",
    "        bin5 += 1\n",
    "        \n",
    "print(f\" 1.00 -  0.90 Correlation pairs\\t{bin0}\\t({round(bin0/len(correlations)*100, 2)}%)\")\n",
    "print(f\" 0.90 -  0.75 Correlation pairs\\t{bin1}\\t({round(bin1/len(correlations)*100, 2)}%)\")\n",
    "print(f\" 0.75 -  0.50 Correlation pairs\\t{bin2}\\t({round(bin2/len(correlations)*100, 2)}%)\")\n",
    "print(f\" 0.50 - -0.50 Correlation pairs\\t{bin3}\\t({round(bin3/len(correlations)*100, 2)}%)\")\n",
    "print(f\"-0.50 - -0.75 Correlation pairs\\t{bin4}\\t({round(bin4/len(correlations)*100, 2)}%)\")\n",
    "print(f\"-0.75 - -1.00 Correlation pairs\\t{bin5}\\t({round(bin5/len(correlations)*100, 2)}%)\")\n",
    "\n",
    "\n",
    "print('\\n')\n",
    "print(correlations)\n"
   ]
  },
  {
   "cell_type": "code",
   "execution_count": 11,
   "metadata": {},
   "outputs": [
    {
     "data": {
      "text/plain": [
       "stock_A         FOX\n",
       "stock_B        FOXA\n",
       "corr       0.997271\n",
       "Name: 0, dtype: object"
      ]
     },
     "execution_count": 11,
     "metadata": {},
     "output_type": "execute_result"
    },
    {
     "data": {
      "image/png": "[encoded data removed]",
      "text/plain": [
       "<Figure size 432x288 with 1 Axes>"
      ]
     },
     "metadata": {
      "needs_background": "light"
     },
     "output_type": "display_data"
    }
   ],
   "source": [
    "# PLOT MOST CORRELATED PAIR FOUND\n",
    "best_corr = correlations.loc[0,:]\n",
    "plt.plot(prices[best_corr.stock_A], label=best_corr.stock_A)\n",
    "plt.plot(prices[best_corr.stock_B], label=best_corr.stock_B)\n",
    "plt.legend()\n",
    "best_corr"
   ]
  },
  {
   "cell_type": "markdown",
   "metadata": {},
   "source": [
    "---\n",
    "---\n",
    "## 1.d Filtering candidate pairs found\n",
    "\n",
    "Since we are interested in proceeding our trading analysis only on the best pairs found above, we proceed to filter the pairs by keeping only those with correlation above a set treshold (here set at 0.99). "
   ]
  },
  {
   "cell_type": "code",
   "execution_count": 12,
   "metadata": {},
   "outputs": [
    {
     "name": "stdout",
     "output_type": "stream",
     "text": [
      "Filtered 15 stock pairs with correlation above 0.99\n"
     ]
    }
   ],
   "source": [
    "# Retain only stock pairs w/ correlation above treshold\n",
    "CORR_TRESHOLD = 0.99\n",
    "filtered_pairs = pd.DataFrame([pair for _,pair in correlations.iterrows() if pair['corr'] >= CORR_TRESHOLD])\n",
    "print(f\"Filtered {len(filtered_pairs)} stock pairs with correlation above {CORR_TRESHOLD}\")"
   ]
  },
  {
   "cell_type": "code",
   "execution_count": 13,
   "metadata": {},
   "outputs": [
    {
     "data": {
      "text/html": [
       "<div>\n",
       "<style scoped>\n",
       "    .dataframe tbody tr th:only-of-type {\n",
       "        vertical-align: middle;\n",
       "    }\n",
       "\n",
       "    .dataframe tbody tr th {\n",
       "        vertical-align: top;\n",
       "    }\n",
       "\n",
       "    .dataframe thead th {\n",
       "        text-align: right;\n",
       "    }\n",
       "</style>\n",
       "<table border=\"1\" class=\"dataframe\">\n",
       "  <thead>\n",
       "    <tr style=\"text-align: right;\">\n",
       "      <th></th>\n",
       "      <th>stock_A</th>\n",
       "      <th>stock_B</th>\n",
       "      <th>corr</th>\n",
       "    </tr>\n",
       "  </thead>\n",
       "  <tbody>\n",
       "    <tr>\n",
       "      <th>0</th>\n",
       "      <td>FOX</td>\n",
       "      <td>FOXA</td>\n",
       "      <td>0.997271</td>\n",
       "    </tr>\n",
       "    <tr>\n",
       "      <th>1</th>\n",
       "      <td>DISCA</td>\n",
       "      <td>DISCK</td>\n",
       "      <td>0.996414</td>\n",
       "    </tr>\n",
       "    <tr>\n",
       "      <th>2</th>\n",
       "      <td>LMT</td>\n",
       "      <td>RTN</td>\n",
       "      <td>0.993594</td>\n",
       "    </tr>\n",
       "    <tr>\n",
       "      <th>3</th>\n",
       "      <td>AWK</td>\n",
       "      <td>CMS</td>\n",
       "      <td>0.993416</td>\n",
       "    </tr>\n",
       "    <tr>\n",
       "      <th>4</th>\n",
       "      <td>DTE</td>\n",
       "      <td>NEE</td>\n",
       "      <td>0.992945</td>\n",
       "    </tr>\n",
       "    <tr>\n",
       "      <th>5</th>\n",
       "      <td>AET</td>\n",
       "      <td>CI</td>\n",
       "      <td>0.992136</td>\n",
       "    </tr>\n",
       "    <tr>\n",
       "      <th>6</th>\n",
       "      <td>LMT</td>\n",
       "      <td>NOC</td>\n",
       "      <td>0.991732</td>\n",
       "    </tr>\n",
       "    <tr>\n",
       "      <th>7</th>\n",
       "      <td>NOC</td>\n",
       "      <td>RTN</td>\n",
       "      <td>0.991140</td>\n",
       "    </tr>\n",
       "    <tr>\n",
       "      <th>8</th>\n",
       "      <td>CMS</td>\n",
       "      <td>EIX</td>\n",
       "      <td>0.990708</td>\n",
       "    </tr>\n",
       "    <tr>\n",
       "      <th>9</th>\n",
       "      <td>PNW</td>\n",
       "      <td>XEL</td>\n",
       "      <td>0.990634</td>\n",
       "    </tr>\n",
       "    <tr>\n",
       "      <th>10</th>\n",
       "      <td>CMS</td>\n",
       "      <td>XEL</td>\n",
       "      <td>0.990622</td>\n",
       "    </tr>\n",
       "    <tr>\n",
       "      <th>11</th>\n",
       "      <td>AEE</td>\n",
       "      <td>XEL</td>\n",
       "      <td>0.990558</td>\n",
       "    </tr>\n",
       "    <tr>\n",
       "      <th>12</th>\n",
       "      <td>IT</td>\n",
       "      <td>MMC</td>\n",
       "      <td>0.990555</td>\n",
       "    </tr>\n",
       "    <tr>\n",
       "      <th>13</th>\n",
       "      <td>CMS</td>\n",
       "      <td>DTE</td>\n",
       "      <td>0.990184</td>\n",
       "    </tr>\n",
       "    <tr>\n",
       "      <th>14</th>\n",
       "      <td>AEP</td>\n",
       "      <td>CMS</td>\n",
       "      <td>0.990112</td>\n",
       "    </tr>\n",
       "  </tbody>\n",
       "</table>\n",
       "</div>"
      ],
      "text/plain": [
       "   stock_A stock_B      corr\n",
       "0      FOX    FOXA  0.997271\n",
       "1    DISCA   DISCK  0.996414\n",
       "2      LMT     RTN  0.993594\n",
       "3      AWK     CMS  0.993416\n",
       "4      DTE     NEE  0.992945\n",
       "5      AET      CI  0.992136\n",
       "6      LMT     NOC  0.991732\n",
       "7      NOC     RTN  0.991140\n",
       "8      CMS     EIX  0.990708\n",
       "9      PNW     XEL  0.990634\n",
       "10     CMS     XEL  0.990622\n",
       "11     AEE     XEL  0.990558\n",
       "12      IT     MMC  0.990555\n",
       "13     CMS     DTE  0.990184\n",
       "14     AEP     CMS  0.990112"
      ]
     },
     "execution_count": 13,
     "metadata": {},
     "output_type": "execute_result"
    }
   ],
   "source": [
    "filtered_pairs"
   ]
  },
  {
   "cell_type": "markdown",
   "metadata": {},
   "source": [
    "---\n",
    "---\n",
    "# PART 2 - Generate a Predictive Model\n",
    "\n",
    "The objective of this section is to creation and test a predictive model to predict the stock prices of the highly correlated pairs based on their history."
   ]
  },
  {
   "cell_type": "markdown",
   "metadata": {},
   "source": [
    "## 2.a Prepare the dataset for training\n",
    "\n",
    "Before defining the predictive model, it is necessary to restructure the dataset for training.\n",
    "\n",
    "The data used below is the original day-by-day data imported at the beginning (i.e. not the 5-days averaged data).\n",
    "\n",
    "For each of the selected pairs, we take its time series and we reformat it into many smaller time series (each of them has 100 elements) in order to train the predictive model with smaller subsets of the original time series.\n",
    "\n",
    "Each data point is regularized using the natural logarithm.\n",
    "\n",
    "The shape of the full dataset is\n",
    "- x-shape: (n_pairs=15, n_samples, look_back=100, n_features=2)\n",
    "- y-shape: (n_pairs=15, n_samples, n_features=2)\n",
    "\n",
    "This dataset is then split into training and test sets with a 80%/20% ratio."
   ]
  },
  {
   "cell_type": "code",
   "execution_count": 14,
   "metadata": {},
   "outputs": [],
   "source": [
    "# HELPER FUNCTION\n",
    "# convert an array of values into a dataset matrix\n",
    "look_back = 100\n",
    "def xy_split_dataset(dataset, look_back=1, normalize=True):\n",
    "    dataset = dataset.reshape(-1, 1)\n",
    "#     scaler = MinMaxScaler(feature_range=(0, 1))\n",
    "#     if normalize:\n",
    "#         dataset = scaler.fit_transform(dataset) \n",
    "    \n",
    "    dataX, dataY = [], []\n",
    "    for i in range(len(dataset)-look_back):\n",
    "        a = dataset[i:(i+look_back)]\n",
    "        dataX.append(a)\n",
    "        dataY.append(dataset[i + look_back])\n",
    "    X = np.array(dataX)\n",
    "    Y = np.array(dataY)\n",
    "    \n",
    "    return X,Y\n"
   ]
  },
  {
   "cell_type": "code",
   "execution_count": 15,
   "metadata": {
    "scrolled": true
   },
   "outputs": [
    {
     "name": "stdout",
     "output_type": "stream",
     "text": [
      "Rearranging dataset...\n",
      "Pair 15 of 15\n",
      "DONE\n"
     ]
    }
   ],
   "source": [
    "# PREPARE DATASET FOR TRAINING AND TESTING\n",
    "\n",
    "# dataset x-shape: (n_pairs, n_samples, look_back, 2)\n",
    "#         y-shape: (n_pairs, n_samples, 2)\n",
    "\n",
    "n_pairs = len(filtered_pairs)\n",
    "n_samples = len(prices.loc[:,best_corr.stock_B].to_numpy()) - look_back\n",
    "n_timesteps = look_back\n",
    "n_features = 2\n",
    "\n",
    "def pandas_fill(arr):\n",
    "    input_shape = arr.shape\n",
    "    df = pd.DataFrame(arr)\n",
    "    df.fillna(method='ffill', axis=0, inplace=True)\n",
    "    out = df.to_numpy().reshape(input_shape)\n",
    "    return out\n",
    "\n",
    "print(\"Rearranging dataset...\")\n",
    "x_train = np.zeros(shape=(n_pairs, n_samples, look_back, 2), dtype=float)\n",
    "y_train = np.zeros(shape=(n_pairs, n_samples, 2), dtype=float)\n",
    "scalers = np.empty(shape=(n_pairs), dtype=MinMaxScaler)\n",
    "pair_idx = 0\n",
    "for _,pair in filtered_pairs.iterrows():\n",
    "    print(\"Pair {} of {}\".format(pair_idx+1, len(filtered_pairs)), end=\"\\r\")\n",
    "    scaler = MinMaxScaler(feature_range=(0, 1))\n",
    "    stock_A = prices.loc[:,pair.stock_A].to_numpy()\n",
    "    stock_B = prices.loc[:,pair.stock_B].to_numpy()\n",
    "    # Regularize data using Natural Logarithm\n",
    "    stock_A = np.log(stock_A)\n",
    "    stock_B = np.log(stock_B)\n",
    "    # Clean NaN values\n",
    "    stock_A = pandas_fill(stock_A)\n",
    "    stock_B = pandas_fill(stock_B)\n",
    "    \n",
    "    x_stock_A, y_stock_A = xy_split_dataset(stock_A, look_back=look_back)\n",
    "    x_stock_B, y_stock_B = xy_split_dataset(stock_B, look_back=look_back)\n",
    "    \n",
    "    for sample_idx in range(len(x_stock_A)):\n",
    "        for ts_idx in range(len(x_stock_A[sample_idx])):\n",
    "            x_train[pair_idx][sample_idx][ts_idx][0] = x_stock_A[sample_idx][ts_idx]\n",
    "            x_train[pair_idx][sample_idx][ts_idx][1] = x_stock_B[sample_idx][ts_idx]\n",
    "        y_train[pair_idx][sample_idx][0] = y_stock_A[sample_idx]\n",
    "        y_train[pair_idx][sample_idx][1] = y_stock_B[sample_idx]\n",
    "    \n",
    "    pair_idx += 1\n",
    "\n",
    "print(\"\\nDONE\")"
   ]
  },
  {
   "cell_type": "code",
   "execution_count": 16,
   "metadata": {},
   "outputs": [
    {
     "name": "stdout",
     "output_type": "stream",
     "text": [
      "Full X dataset (15, 1899, 100, 2)\n",
      "Full Y dataset (15, 1899, 2)\n",
      "trainX  (15, 1519, 100, 2)\n",
      "trainY  (15, 1519, 2)\n",
      "testX  (15, 380, 100, 2)\n",
      "testY  (15, 380, 2)\n"
     ]
    }
   ],
   "source": [
    "print(\"Full X dataset\", x_train.shape)\n",
    "print(\"Full Y dataset\", y_train.shape)\n",
    "train_test_split_ratio = 0.8\n",
    "trainX = x_train.reshape(n_pairs, n_samples, n_timesteps, n_features)\n",
    "trainY = y_train.reshape(n_pairs, n_samples, n_features)\n",
    "\n",
    "split_index = int(n_samples*train_test_split_ratio)\n",
    "testX = trainX[:,split_index:]\n",
    "trainX = trainX[:,:split_index]\n",
    "testY = trainY[:,split_index:]\n",
    "trainY = trainY[:,:split_index]\n",
    "\n",
    "print(\"trainX \", trainX.shape)\n",
    "print(\"trainY \", trainY.shape)\n",
    "print(\"testX \", testX.shape)\n",
    "print(\"testY \", testY.shape)"
   ]
  },
  {
   "cell_type": "markdown",
   "metadata": {},
   "source": [
    "---\n",
    "---\n",
    "## 2.b The predictive models - LSTM\n",
    "\n",
    "Now that the dataset is organized and split into training and test sets, we can proceed to define and train our predictive models.\n",
    "\n",
    "Since the ultimate objective of this challenge is to research on pair trading, we want a model that would take as input a time series until a day `t` of both stocks in a highly correlated pair and it would give as output the price of the two stocks for the day `t+1`.\n",
    "\n",
    "To do this, I used a LSTM network with only one layer. The loss function used is the **mean absolute percentage error (MAPE)** as it accounts for errors in predictions relatively to the magnitude of the correct value and not only for the absolute error as MSE would do.\n",
    "\n",
    "Since we have multiple (15) candidate pairs, we train and test as many networks as the number of pairs."
   ]
  },
  {
   "cell_type": "code",
   "execution_count": 19,
   "metadata": {
    "scrolled": false
   },
   "outputs": [
    {
     "name": "stdout",
     "output_type": "stream",
     "text": [
      "Training model 15 of 15\n",
      "DONE\n"
     ]
    }
   ],
   "source": [
    "# DEFINE AND TRAIN PREDICTIVE LSTM\n",
    "n_pairs = trainX.shape[0]\n",
    "models = np.empty(shape=(n_pairs), dtype=Sequential)\n",
    "for pair_idx in range(n_pairs):\n",
    "    print(\"Training model {} of {}\".format(pair_idx+1, n_pairs), end=\"\\r\")\n",
    "    model = Sequential()\n",
    "    model.add(LSTM(150, input_shape=((trainX.shape[2], trainX.shape[3]))))\n",
    "    model.add(Dense(2))\n",
    "    model.compile(loss=MAPE, optimizer='adam')\n",
    "    model.fit(trainX[pair_idx], trainY[pair_idx], epochs=5, batch_size=10, verbose=0)\n",
    "    models[pair_idx] = model\n",
    "print(\"\\nDONE\")"
   ]
  },
  {
   "cell_type": "code",
   "execution_count": 20,
   "metadata": {},
   "outputs": [],
   "source": [
    "def mean_absolute_percentage_error(y_true, y_pred): \n",
    "    y_true, y_pred = np.array(y_true), np.array(y_pred)\n",
    "    return np.mean(np.abs((y_true - y_pred) / y_true)) * 100"
   ]
  },
  {
   "cell_type": "code",
   "execution_count": 21,
   "metadata": {},
   "outputs": [
    {
     "name": "stdout",
     "output_type": "stream",
     "text": [
      "Testing model 15 of 15\n",
      "DONE\n"
     ]
    }
   ],
   "source": [
    "# TEST MODELS ON RESPECTIVE TEST SETS\n",
    "\n",
    "test_results = np.zeros(shape=(n_pairs, 3), dtype=float)\n",
    "\n",
    "for pair_idx in range(n_pairs):\n",
    "    print(\"Testing model {} of {}\".format(pair_idx+1, n_pairs), end=\"\\r\")\n",
    "    predicted = np.exp(models[pair_idx].predict(testX[pair_idx]))\n",
    "    true = np.exp(testY[pair_idx,:,:])\n",
    "    \n",
    "    stock_A_MAPE = mean_absolute_percentage_error(true[:,0], predicted[:,0])\n",
    "    stock_B_MAPE = mean_absolute_percentage_error(true[:,1], predicted[:,1])\n",
    "    combined_MAPE = (stock_A_MAPE + stock_B_MAPE)/2\n",
    "    \n",
    "    test_results[pair_idx] = [stock_A_MAPE, stock_B_MAPE, combined_MAPE]\n",
    "print(\"\\nDONE\")"
   ]
  },
  {
   "cell_type": "markdown",
   "metadata": {},
   "source": [
    "---\n",
    "---\n",
    "## 2.c Results\n",
    "\n",
    "After training and testing the LSTMs we can find the best model by looking for the one with the lowest combined MAPE value for its stocks.\n",
    "The MAPE values of best one are shown below, together with the plots of the model predictions vs the real stock values."
   ]
  },
  {
   "cell_type": "code",
   "execution_count": 22,
   "metadata": {},
   "outputs": [
    {
     "name": "stdout",
     "output_type": "stream",
     "text": [
      "MAPE values --> (1) Stock A    (2) Stock B    (3) Combined\n",
      "[[ 5.2758 10.1654  7.7206]\n",
      " [ 6.5566  3.2367  4.8966]\n",
      " [ 3.5174  9.5237  6.5205]\n",
      " [ 3.6167  2.7225  3.1696]\n",
      " [11.0043 10.337  10.6706]\n",
      " [14.8602  4.2608  9.5605]\n",
      " [ 9.0125  6.028   7.5202]\n",
      " [13.5321 19.1171 16.3246]\n",
      " [ 9.2676 10.6082  9.9379]\n",
      " [ 2.4568  2.1287  2.2927]\n",
      " [ 3.5875 12.487   8.0373]\n",
      " [ 3.2619  3.4874  3.3747]\n",
      " [ 4.2008  4.2548  4.2278]\n",
      " [ 1.3792  3.8781  2.6287]\n",
      " [ 2.1991  3.158   2.6786]]\n"
     ]
    }
   ],
   "source": [
    "print(\"MAPE values --> (1) Stock A    (2) Stock B    (3) Combined\")\n",
    "print(np.around(test_results, 4))"
   ]
  },
  {
   "cell_type": "code",
   "execution_count": 23,
   "metadata": {},
   "outputs": [
    {
     "name": "stdout",
     "output_type": "stream",
     "text": [
      "--- BEST MODEL ---\n",
      "Combined MAPE:\t 2.2927 %\n",
      "PNW MAPE:\t 2.4568 %\n",
      "XEL MAPE:\t 2.1287 %\n"
     ]
    }
   ],
   "source": [
    "# FIND MODEL WITH BEST COMBINED MAPE SCORE\n",
    "best_pair_idx = np.argmin(np.array([x for _,_,x in test_results]))\n",
    "\n",
    "stock_A_name = filtered_pairs.loc[best_pair_idx].stock_A\n",
    "stock_B_name = filtered_pairs.loc[best_pair_idx].stock_B\n",
    "print(\"--- BEST MODEL ---\")\n",
    "print(\"Combined MAPE:\\t\", round(test_results[best_pair_idx,2],4), \"%\")\n",
    "print(stock_A_name,\"MAPE:\\t\", round(test_results[best_pair_idx,0],4), \"%\")\n",
    "print(stock_B_name,\"MAPE:\\t\", round(test_results[best_pair_idx,1],4), \"%\")"
   ]
  },
  {
   "cell_type": "code",
   "execution_count": 25,
   "metadata": {},
   "outputs": [
    {
     "data": {
      "text/plain": [
       "<matplotlib.legend.Legend at 0x7f97d79fbf28>"
      ]
     },
     "execution_count": 25,
     "metadata": {},
     "output_type": "execute_result"
    },
    {
     "data": {
      "image/png": "[encoded data removed]",
      "text/plain": [
       "<Figure size 432x288 with 1 Axes>"
      ]
     },
     "metadata": {
      "needs_background": "light"
     },
     "output_type": "display_data"
    },
    {
     "data": {
      "image/png": "[encoded data removed]",
      "text/plain": [
       "<Figure size 432x288 with 1 Axes>"
      ]
     },
     "metadata": {
      "needs_background": "light"
     },
     "output_type": "display_data"
    }
   ],
   "source": [
    "# PLOT PREDICTION vs. TRUE OF THE BEST PERFORMING PAIR MODEL\n",
    "predicted = np.exp(models[best_pair_idx].predict(testX[best_pair_idx]))\n",
    "true = np.exp(testY[best_pair_idx,:,:])\n",
    "plt.figure(0)\n",
    "plt.title(stock_A_name)\n",
    "plt.plot(true[:,0], color = 'red', label = 'Stock Price')\n",
    "plt.plot(predicted[:,0], color = 'green', label = 'Predicted Stock Price')\n",
    "plt.legend()\n",
    "\n",
    "plt.figure(1)\n",
    "plt.title(stock_B_name)\n",
    "plt.plot(true[:,1], color = 'blue', label = 'Stock Price')\n",
    "plt.plot(predicted[:,1], color = 'orange', label = 'Predicted Stock Price')\n",
    "plt.legend()"
   ]
  },
  {
   "cell_type": "markdown",
   "metadata": {},
   "source": [
    "# Conclusion and Future Work\n",
    "\n",
    "As the results above confirm, the methodology described in this notebook, for finding pairs and generating a predictive model in order to do pair trading, works.\n",
    "\n",
    "Certainly if more time and computational power was available it would be intersting to do a rigourous tuning of the hyper-parameters of the system (e.g. no. of clusters, look_back value of the LSTM time series, number and size of the model layers, etc.).\n",
    "\n",
    "Moreover, it would be interesting to setup a trading strategy based on this procedure and see how it would perform on real stock market data being generated every day."
   ]
  }
 ],
 "metadata": {
  "kernelspec": {
   "display_name": "Python 3",
   "language": "python",
   "name": "python3"
  },
  "language_info": {
   "codemirror_mode": {
    "name": "ipython",
    "version": 3
   },
   "file_extension": ".py",
   "mimetype": "text/x-python",
   "name": "python",
   "nbconvert_exporter": "python",
   "pygments_lexer": "ipython3",
   "version": "3.6.8"
  }
 },
 "nbformat": 4,
 "nbformat_minor": 2
}
